{
 "cells": [
  {
   "attachments": {},
   "cell_type": "markdown",
   "metadata": {},
   "source": [
    "## Классификация MNIST\n",
    "\n",
    "##### Автор: [Радослав Нейчев](https://www.linkedin.com/in/radoslav-neychev/), https://t.me/s/girafe_ai"
   ]
  },
  {
   "cell_type": "code",
   "execution_count": 1,
   "metadata": {},
   "outputs": [],
   "source": [
    "import numpy as np\n",
    "\n",
    "import torch\n",
    "from torch import nn\n",
    "from torch.nn import functional as F\n",
    "\n",
    "import torchvision\n",
    "from torchvision.datasets import MNIST\n",
    "\n",
    "from matplotlib import pyplot as plt\n",
    "from IPython.display import clear_output"
   ]
  },
  {
   "attachments": {},
   "cell_type": "markdown",
   "metadata": {},
   "source": [
    "Давайте обратимся к классической задаче распознавания рукописных цифр. Мы будем работать с набором данных [MNIST](http://yann.lecun.com/exdb/mnist/). В этом задании мы воспользуемся всем датасетом целиком.\n",
    "\n",
    "__Ваша основная задача: реализовать весь пайплайн обучения модели и добиться качества $\\geq 92\\%$ на тестовой выборке.__\n",
    "\n",
    "Код для обучения модели в данном задании отсутствует. Присутствует лишь несколько тестов, которые помогут вам отладить свое решение. За примером можно обратиться к ноутбуку с первого занятия.\n",
    "\n",
    "Мы настоятельно рекомендуем писать код «с нуля», лишь изредка подглядывая в готовые примеры, а не просто «копировать-вставлять». Это поможет вам в будущем."
   ]
  },
  {
   "cell_type": "code",
   "execution_count": 2,
   "metadata": {},
   "outputs": [
    {
     "name": "stdout",
     "output_type": "stream",
     "text": [
      "tensor([[[0.0000, 0.0000, 0.0000, 0.0000, 0.0000, 0.0000, 0.0000, 0.0000,\n",
      "          0.0000, 0.0000, 0.0000, 0.0000, 0.0000, 0.0000, 0.0000, 0.0000,\n",
      "          0.0000, 0.0000, 0.0000, 0.0000, 0.0000, 0.0000, 0.0000, 0.0000,\n",
      "          0.0000, 0.0000, 0.0000, 0.0000],\n",
      "         [0.0000, 0.0000, 0.0000, 0.0000, 0.0000, 0.0000, 0.0000, 0.0000,\n",
      "          0.0000, 0.0000, 0.0000, 0.0000, 0.0000, 0.0000, 0.0000, 0.0000,\n",
      "          0.0000, 0.0000, 0.0000, 0.0000, 0.0000, 0.0000, 0.0000, 0.0000,\n",
      "          0.0000, 0.0000, 0.0000, 0.0000],\n",
      "         [0.0000, 0.0000, 0.0000, 0.0000, 0.0000, 0.0000, 0.0000, 0.0000,\n",
      "          0.0000, 0.0000, 0.0000, 0.0000, 0.0000, 0.0000, 0.0000, 0.0000,\n",
      "          0.0000, 0.0000, 0.0000, 0.0000, 0.0000, 0.0000, 0.0000, 0.0000,\n",
      "          0.0000, 0.0000, 0.0000, 0.0000],\n",
      "         [0.0000, 0.0000, 0.0000, 0.0000, 0.0000, 0.0000, 0.0000, 0.0000,\n",
      "          0.0000, 0.0000, 0.0000, 0.0000, 0.0000, 0.0000, 0.0000, 0.0000,\n",
      "          0.0000, 0.0000, 0.0000, 0.0000, 0.0000, 0.0000, 0.0000, 0.0000,\n",
      "          0.0000, 0.0000, 0.0000, 0.0000],\n",
      "         [0.0000, 0.0000, 0.0000, 0.0000, 0.0000, 0.0000, 0.0000, 0.0000,\n",
      "          0.0000, 0.0000, 0.0000, 0.0000, 0.0000, 0.0000, 0.0000, 0.0000,\n",
      "          0.2471, 0.2863, 0.2863, 0.2078, 0.0000, 0.0000, 0.0000, 0.0000,\n",
      "          0.0000, 0.0000, 0.0000, 0.0000],\n",
      "         [0.0000, 0.0000, 0.0000, 0.0000, 0.0000, 0.0000, 0.0000, 0.0000,\n",
      "          0.0000, 0.0000, 0.0000, 0.0000, 0.0000, 0.0000, 0.5686, 0.5647,\n",
      "          0.9255, 0.9843, 0.9843, 0.8706, 0.2431, 0.0000, 0.0000, 0.0000,\n",
      "          0.0000, 0.0000, 0.0000, 0.0000],\n",
      "         [0.0000, 0.0000, 0.0000, 0.0000, 0.0000, 0.0000, 0.0000, 0.0000,\n",
      "          0.0000, 0.0000, 0.0000, 0.1255, 0.4510, 0.8510, 0.9922, 0.9843,\n",
      "          0.9843, 0.9843, 0.9843, 0.9922, 0.9059, 0.2196, 0.0000, 0.0000,\n",
      "          0.0000, 0.0000, 0.0000, 0.0000],\n",
      "         [0.0000, 0.0000, 0.0000, 0.0000, 0.0000, 0.0000, 0.0000, 0.0000,\n",
      "          0.0000, 0.1255, 0.4275, 0.9059, 0.9843, 0.9843, 0.9922, 0.9843,\n",
      "          0.9843, 0.9843, 0.9843, 0.9922, 0.9843, 0.9020, 0.2431, 0.0000,\n",
      "          0.0000, 0.0000, 0.0000, 0.0000],\n",
      "         [0.0000, 0.0000, 0.0000, 0.0000, 0.0000, 0.0000, 0.0000, 0.0000,\n",
      "          0.0000, 0.7922, 0.9843, 0.9843, 0.9843, 0.9843, 0.9922, 0.9843,\n",
      "          0.3765, 0.2784, 0.7843, 0.9922, 0.9843, 0.9843, 0.5569, 0.0000,\n",
      "          0.0000, 0.0000, 0.0000, 0.0000],\n",
      "         [0.0000, 0.0000, 0.0000, 0.0000, 0.0000, 0.0000, 0.0000, 0.4314,\n",
      "          0.9922, 1.0000, 0.9922, 0.9922, 0.9922, 0.7882, 0.0000, 0.0000,\n",
      "          0.0000, 0.0000, 0.5098, 1.0000, 0.9922, 0.9922, 0.5608, 0.0000,\n",
      "          0.0000, 0.0000, 0.0000, 0.0000],\n",
      "         [0.0000, 0.0000, 0.0000, 0.0000, 0.0000, 0.0000, 0.0000, 0.4275,\n",
      "          0.9843, 0.9922, 0.9843, 0.9843, 0.7373, 0.1176, 0.0000, 0.0000,\n",
      "          0.0000, 0.0000, 0.0000, 0.5843, 0.9843, 0.9843, 0.8039, 0.1608,\n",
      "          0.0000, 0.0000, 0.0000, 0.0000],\n",
      "         [0.0000, 0.0000, 0.0000, 0.0000, 0.0000, 0.0000, 0.2275, 0.9059,\n",
      "          0.9843, 0.9922, 0.9843, 0.7608, 0.0784, 0.0000, 0.0000, 0.0000,\n",
      "          0.0000, 0.0000, 0.0000, 0.8941, 0.9843, 0.9843, 0.9843, 0.2784,\n",
      "          0.0000, 0.0000, 0.0000, 0.0000],\n",
      "         [0.0000, 0.0000, 0.0000, 0.0000, 0.0000, 0.2471, 0.9059, 0.9843,\n",
      "          0.9843, 0.9922, 0.7373, 0.0784, 0.0000, 0.0000, 0.0000, 0.0000,\n",
      "          0.0000, 0.0000, 0.0000, 0.6863, 0.9843, 0.9843, 0.9843, 0.2784,\n",
      "          0.0000, 0.0000, 0.0000, 0.0000],\n",
      "         [0.0000, 0.0000, 0.0000, 0.0000, 0.0000, 0.5647, 0.9843, 0.9843,\n",
      "          0.9843, 0.7882, 0.1176, 0.0000, 0.0000, 0.0000, 0.0000, 0.0000,\n",
      "          0.0000, 0.0000, 0.0000, 0.0824, 0.6824, 0.9843, 0.9843, 0.2784,\n",
      "          0.0000, 0.0000, 0.0000, 0.0000],\n",
      "         [0.0000, 0.0000, 0.0000, 0.0000, 0.0000, 0.5686, 0.9922, 0.9922,\n",
      "          0.9922, 0.5098, 0.0000, 0.0000, 0.0000, 0.0000, 0.0000, 0.0000,\n",
      "          0.0000, 0.0000, 0.0000, 0.0000, 0.5686, 0.9922, 0.9922, 0.9922,\n",
      "          0.0000, 0.0000, 0.0000, 0.0000],\n",
      "         [0.0000, 0.0000, 0.0000, 0.0000, 0.1647, 0.8078, 0.9843, 0.9843,\n",
      "          0.9843, 0.0000, 0.0000, 0.0000, 0.0000, 0.0000, 0.0000, 0.0000,\n",
      "          0.0000, 0.0000, 0.0000, 0.0000, 0.5647, 0.9843, 0.9843, 0.9843,\n",
      "          0.0000, 0.0000, 0.0000, 0.0000],\n",
      "         [0.0000, 0.0000, 0.0000, 0.0000, 0.2863, 0.9843, 0.9843, 0.9843,\n",
      "          0.3765, 0.0000, 0.0000, 0.0000, 0.0000, 0.0000, 0.0000, 0.0000,\n",
      "          0.0000, 0.0000, 0.0000, 0.2471, 0.9255, 0.9843, 0.9843, 0.8824,\n",
      "          0.0000, 0.0000, 0.0000, 0.0000],\n",
      "         [0.0000, 0.0000, 0.0000, 0.0000, 0.2863, 0.9843, 0.9843, 0.8000,\n",
      "          0.1608, 0.0000, 0.0000, 0.0000, 0.0000, 0.0000, 0.0000, 0.0000,\n",
      "          0.0000, 0.0000, 0.0000, 0.5882, 0.9843, 0.9843, 0.9843, 0.2784,\n",
      "          0.0000, 0.0000, 0.0000, 0.0000],\n",
      "         [0.0000, 0.0000, 0.0000, 0.0000, 0.2863, 0.9843, 0.9843, 0.5569,\n",
      "          0.0000, 0.0000, 0.0000, 0.0000, 0.0000, 0.0000, 0.0000, 0.0000,\n",
      "          0.0000, 0.0000, 0.5098, 0.9922, 0.9843, 0.9843, 0.6784, 0.0784,\n",
      "          0.0000, 0.0000, 0.0000, 0.0000],\n",
      "         [0.0000, 0.0000, 0.0000, 0.0000, 0.7922, 0.9922, 0.9922, 0.5608,\n",
      "          0.0000, 0.0000, 0.0000, 0.0000, 0.0000, 0.0000, 0.0000, 0.0000,\n",
      "          0.0000, 0.1255, 0.7922, 1.0000, 0.9922, 0.9490, 0.4039, 0.0000,\n",
      "          0.0000, 0.0000, 0.0000, 0.0000],\n",
      "         [0.0000, 0.0000, 0.0000, 0.0000, 0.2863, 0.9843, 0.9843, 0.5569,\n",
      "          0.0000, 0.0000, 0.0000, 0.0000, 0.0000, 0.0000, 0.0000, 0.0000,\n",
      "          0.0824, 0.7451, 0.9843, 0.9922, 0.9843, 0.4392, 0.0000, 0.0000,\n",
      "          0.0000, 0.0000, 0.0000, 0.0000],\n",
      "         [0.0000, 0.0000, 0.0000, 0.0000, 0.2863, 0.9843, 0.9843, 0.6196,\n",
      "          0.1451, 0.1059, 0.0000, 0.0000, 0.0000, 0.1059, 0.1451, 0.1451,\n",
      "          0.7725, 0.9843, 0.9843, 0.9490, 0.4392, 0.0196, 0.0000, 0.0000,\n",
      "          0.0000, 0.0000, 0.0000, 0.0000],\n",
      "         [0.0000, 0.0000, 0.0000, 0.0000, 0.1647, 0.8039, 0.9843, 0.9843,\n",
      "          0.9843, 0.8314, 0.4275, 0.4275, 0.4275, 0.8275, 0.9922, 0.9843,\n",
      "          0.9843, 0.9843, 0.9843, 0.4039, 0.0000, 0.0000, 0.0000, 0.0000,\n",
      "          0.0000, 0.0000, 0.0000, 0.0000],\n",
      "         [0.0000, 0.0000, 0.0000, 0.0000, 0.0000, 0.1608, 0.2784, 0.2784,\n",
      "          0.2784, 0.2824, 0.2784, 0.2784, 0.2784, 0.2784, 0.2824, 0.2784,\n",
      "          0.2784, 0.2784, 0.2784, 0.0000, 0.0000, 0.0000, 0.0000, 0.0000,\n",
      "          0.0000, 0.0000, 0.0000, 0.0000],\n",
      "         [0.0000, 0.0000, 0.0000, 0.0000, 0.0000, 0.0000, 0.0000, 0.0000,\n",
      "          0.0000, 0.0000, 0.0000, 0.0000, 0.0000, 0.0000, 0.0000, 0.0000,\n",
      "          0.0000, 0.0000, 0.0000, 0.0000, 0.0000, 0.0000, 0.0000, 0.0000,\n",
      "          0.0000, 0.0000, 0.0000, 0.0000],\n",
      "         [0.0000, 0.0000, 0.0000, 0.0000, 0.0000, 0.0000, 0.0000, 0.0000,\n",
      "          0.0000, 0.0000, 0.0000, 0.0000, 0.0000, 0.0000, 0.0000, 0.0000,\n",
      "          0.0000, 0.0000, 0.0000, 0.0000, 0.0000, 0.0000, 0.0000, 0.0000,\n",
      "          0.0000, 0.0000, 0.0000, 0.0000],\n",
      "         [0.0000, 0.0000, 0.0000, 0.0000, 0.0000, 0.0000, 0.0000, 0.0000,\n",
      "          0.0000, 0.0000, 0.0000, 0.0000, 0.0000, 0.0000, 0.0000, 0.0000,\n",
      "          0.0000, 0.0000, 0.0000, 0.0000, 0.0000, 0.0000, 0.0000, 0.0000,\n",
      "          0.0000, 0.0000, 0.0000, 0.0000],\n",
      "         [0.0000, 0.0000, 0.0000, 0.0000, 0.0000, 0.0000, 0.0000, 0.0000,\n",
      "          0.0000, 0.0000, 0.0000, 0.0000, 0.0000, 0.0000, 0.0000, 0.0000,\n",
      "          0.0000, 0.0000, 0.0000, 0.0000, 0.0000, 0.0000, 0.0000, 0.0000,\n",
      "          0.0000, 0.0000, 0.0000, 0.0000]]])\n"
     ]
    },
    {
     "data": {
      "text/plain": [
       "Text(0.5, 1.0, 'Image label: 0')"
      ]
     },
     "execution_count": 2,
     "metadata": {},
     "output_type": "execute_result"
    },
    {
     "data": {
      "image/png": "[encoded data removed]",
      "text/plain": [
       "<Figure size 640x480 with 1 Axes>"
      ]
     },
     "metadata": {},
     "output_type": "display_data"
    }
   ],
   "source": [
    "# do not change the code in the block below\n",
    "# __________start of block__________\n",
    "\n",
    "train_mnist_data = MNIST('.', train=True, transform=torchvision.transforms.ToTensor(), download=True)\n",
    "test_mnist_data = MNIST('.', train=False, transform=torchvision.transforms.ToTensor(), download=True)\n",
    "\n",
    "\n",
    "train_data_loader = torch.utils.data.DataLoader(\n",
    "    train_mnist_data,\n",
    "    batch_size=32,\n",
    "    shuffle=True,\n",
    "    num_workers=2\n",
    ")\n",
    "\n",
    "test_data_loader = torch.utils.data.DataLoader(\n",
    "    test_mnist_data,\n",
    "    batch_size=32,\n",
    "    shuffle=False,\n",
    "    num_workers=2\n",
    ")\n",
    "\n",
    "random_batch = next(iter(train_data_loader))\n",
    "_image, _label = random_batch[0][0], random_batch[1][0]\n",
    "print(random_batch[0][0])\n",
    "plt.figure()\n",
    "plt.imshow(_image.reshape(28, 28))\n",
    "plt.title(f'Image label: {_label}')\n",
    "# __________end of block__________"
   ]
  },
  {
   "attachments": {},
   "cell_type": "markdown",
   "metadata": {},
   "source": [
    "Постройте модель, представленную ниже. Пожалуйста, не создавайте чрезмерно сложную сеть — она не должна быть глубже четырёх слоёв (можно и меньше). Ваша основная задача — обучить модель и добиться как минимум 92% точности на тестовой выборке (hold-out выборке).\n",
    "\n",
    "*Примечание: линейных слоёв и функций активации должно быть достаточно.*\n",
    "\n",
    "__Обратите внимание, ваша модель должна быть представлена переменной `model`__"
   ]
  },
  {
   "cell_type": "code",
   "execution_count": 3,
   "metadata": {},
   "outputs": [],
   "source": [
    "\n",
    "model = None \n",
    "class SimpleNN(nn.Module):\n",
    "    def __init__(self):\n",
    "        super(SimpleNN, self).__init__()\n",
    "        self.model = nn.Sequential(\n",
    "            nn.Flatten(),\n",
    "            nn.Linear(28 * 28, 256),\n",
    "            nn.ReLU(),\n",
    "            nn.Linear(256, 128),\n",
    "            nn.ReLU(),\n",
    "            nn.Linear(128, 10)\n",
    "        )\n",
    "\n",
    "    def forward(self, x):\n",
    "        return self.model(x)\n",
    "device = torch.device(\"cpu\")\n",
    "model = SimpleNN().to(device) "
   ]
  },
  {
   "attachments": {},
   "cell_type": "markdown",
   "metadata": {},
   "source": [
    "Ниже доступны локальные тесты для проверки вашей модели:"
   ]
  },
  {
   "cell_type": "code",
   "execution_count": 4,
   "metadata": {},
   "outputs": [
    {
     "name": "stdout",
     "output_type": "stream",
     "text": [
      "Everything seems fine!\n"
     ]
    }
   ],
   "source": [
    "# do not change the code in the block below\n",
    "# __________start of block__________\n",
    "assert model is not None, 'Please, use `model` variable to store your model'\n",
    "\n",
    "try:\n",
    "    x = random_batch[0].reshape(-1, 784)\n",
    "    y = random_batch[1]\n",
    "\n",
    "    # compute outputs given inputs, both are variables\n",
    "    y_predicted = model(x)    \n",
    "except Exception as e:\n",
    "    print('Something is wrong with the model')\n",
    "    raise e\n",
    "    \n",
    "    \n",
    "assert y_predicted.shape[-1] == 10, 'Model should predict 10 logits/probas'\n",
    "\n",
    "print('Everything seems fine!')\n",
    "# __________end of block__________"
   ]
  },
  {
   "attachments": {},
   "cell_type": "markdown",
   "metadata": {},
   "source": [
    "Обучите модель на обучающей выборке. Рекомендуем поэкспериментировать с различными оптимизаторами.\n"
   ]
  },
  {
   "cell_type": "code",
   "execution_count": 5,
   "metadata": {},
   "outputs": [],
   "source": [
    "import torch.optim as optim\n",
    "\n",
    "lr = 0.001\n",
    "epochs = 3\n",
    "criterion = nn.CrossEntropyLoss()\n",
    "optimizer = optim.Adam(model.parameters(), lr=lr)\n",
    "\n",
    "for epoch in range(epochs):\n",
    "    model.train()\n",
    "    for batch_idx, (data, target) in enumerate(train_data_loader):\n",
    "        data, target = data.to(device), target.to(device)\n",
    "\n",
    "        optimizer.zero_grad()\n",
    "        output = model(data)\n",
    "        loss = criterion(output, target)\n",
    "        loss.backward()\n",
    "        optimizer.step()\n",
    "    \n",
    "    # Проверка после каждой эпохи\n",
    "    "
   ]
  },
  {
   "cell_type": "code",
   "execution_count": 22,
   "metadata": {},
   "outputs": [
    {
     "name": "stdout",
     "output_type": "stream",
     "text": [
      "tensor([[[[0.9759, 0.9759, 0.9759, 0.9759, 0.9759, 0.9759, 0.9759, 0.9759,\n",
      "           0.9759, 0.9759, 0.9759, 0.9759, 0.9759, 0.9759, 0.9759, 0.9759,\n",
      "           0.9759, 0.9759, 0.9759, 0.9759, 0.9759, 0.9759, 0.9759, 0.9759,\n",
      "           0.9759, 0.9759, 0.9759, 0.9759],\n",
      "          [0.9759, 0.9759, 0.9759, 0.9759, 0.9759, 0.9759, 0.9759, 0.9759,\n",
      "           0.9759, 0.9759, 0.9759, 0.9759, 0.9759, 0.9759, 0.9759, 0.9759,\n",
      "           0.9759, 0.9759, 0.9759, 0.9759, 0.9759, 0.9759, 0.9759, 0.9759,\n",
      "           0.9759, 0.9759, 0.9759, 0.9759],\n",
      "          [0.9759, 0.9759, 0.9759, 0.9759, 0.9759, 0.9759, 0.9759, 0.9759,\n",
      "           0.9759, 0.9759, 0.9759, 0.9759, 0.9759, 0.9759, 0.9759, 0.9759,\n",
      "           0.9759, 0.9759, 0.9759, 0.9759, 0.9759, 0.9759, 0.9759, 0.9759,\n",
      "           0.9759, 0.9759, 0.9759, 0.9759],\n",
      "          [0.9759, 0.9759, 0.9759, 0.9759, 0.9759, 0.9759, 0.9759, 0.9759,\n",
      "           0.9759, 0.9759, 0.9759, 1.0523, 1.1923, 1.1923, 1.1923, 1.1923,\n",
      "           1.2432, 1.9942, 2.1342, 2.1342, 2.1342, 1.3832, 1.1923, 1.0268,\n",
      "           0.9759, 0.9759, 0.9759, 0.9759],\n",
      "          [0.9759, 0.9759, 0.9759, 0.9759, 0.9759, 0.9759, 0.9759, 0.9759,\n",
      "           0.9759, 0.9759, 1.3450, 1.8160, 2.3505, 2.3505, 2.3505, 2.3505,\n",
      "           2.3505, 2.3505, 2.3505, 2.3505, 2.3505, 2.3505, 2.3505, 1.3068,\n",
      "           0.9759, 0.9759, 0.9759, 0.9759],\n",
      "          [0.9759, 0.9759, 0.9759, 0.9759, 0.9759, 0.9759, 0.9759, 0.9759,\n",
      "           0.9759, 0.9759, 1.9942, 2.3505, 2.3505, 2.3505, 2.3505, 2.3505,\n",
      "           2.3505, 2.3505, 2.3505, 2.3505, 2.3505, 2.3505, 2.3505, 1.3068,\n",
      "           0.9759, 0.9759, 0.9759, 0.9759],\n",
      "          [0.9759, 0.9759, 0.9759, 0.9759, 0.9759, 0.9759, 0.9759, 0.9759,\n",
      "           0.9759, 0.9759, 1.9051, 2.2360, 2.1214, 1.4087, 1.3196, 1.3196,\n",
      "           1.3196, 1.3196, 1.4087, 2.1851, 2.3505, 2.3505, 2.2996, 1.2814,\n",
      "           0.9759, 0.9759, 0.9759, 0.9759],\n",
      "          [0.9759, 0.9759, 0.9759, 0.9759, 0.9759, 0.9759, 0.9759, 0.9759,\n",
      "           0.9759, 0.9759, 1.0650, 1.0904, 1.0777, 0.9886, 0.9759, 0.9759,\n",
      "           0.9759, 0.9759, 1.6759, 2.3251, 2.3505, 2.0832, 1.5741, 1.0013,\n",
      "           0.9759, 0.9759, 0.9759, 0.9759],\n",
      "          [0.9759, 0.9759, 0.9759, 0.9759, 0.9759, 0.9759, 0.9759, 0.9759,\n",
      "           0.9759, 0.9759, 0.9759, 0.9759, 0.9759, 0.9759, 0.9759, 0.9759,\n",
      "           0.9759, 1.1414, 2.0196, 2.3505, 2.0323, 1.1286, 0.9759, 0.9759,\n",
      "           0.9759, 0.9759, 0.9759, 0.9759],\n",
      "          [0.9759, 0.9759, 0.9759, 0.9759, 0.9759, 0.9759, 0.9759, 0.9759,\n",
      "           0.9759, 0.9759, 0.9759, 0.9759, 0.9759, 0.9759, 0.9759, 0.9759,\n",
      "           1.0268, 1.8541, 2.3505, 2.3505, 1.6505, 0.9759, 0.9759, 0.9759,\n",
      "           0.9759, 0.9759, 0.9759, 0.9759],\n",
      "          [0.9759, 0.9759, 0.9759, 0.9759, 0.9759, 0.9759, 0.9759, 0.9759,\n",
      "           0.9759, 0.9759, 0.9759, 0.9759, 0.9759, 0.9759, 0.9759, 0.9759,\n",
      "           1.7014, 2.3251, 2.3505, 2.2996, 1.5487, 0.9759, 0.9759, 0.9759,\n",
      "           0.9759, 0.9759, 0.9759, 0.9759],\n",
      "          [0.9759, 0.9759, 0.9759, 0.9759, 0.9759, 0.9759, 0.9759, 0.9759,\n",
      "           0.9759, 0.9759, 0.9759, 0.9759, 0.9759, 0.9759, 0.9759, 1.1286,\n",
      "           2.0069, 2.3505, 2.3378, 1.7396, 0.9759, 0.9759, 0.9759, 0.9759,\n",
      "           0.9759, 0.9759, 0.9759, 0.9759],\n",
      "          [0.9759, 0.9759, 0.9759, 0.9759, 0.9759, 0.9759, 0.9759, 0.9759,\n",
      "           0.9759, 0.9759, 0.9759, 0.9759, 0.9759, 0.9759, 0.9759, 1.3832,\n",
      "           2.3505, 2.3505, 1.9178, 1.0904, 0.9759, 0.9759, 0.9759, 0.9759,\n",
      "           0.9759, 0.9759, 0.9759, 0.9759],\n",
      "          [0.9759, 0.9759, 0.9759, 0.9759, 0.9759, 0.9759, 0.9759, 0.9759,\n",
      "           0.9759, 0.9759, 0.9759, 0.9759, 0.9759, 0.9759, 1.0777, 1.9814,\n",
      "           2.3505, 2.0832, 1.1286, 0.9759, 0.9759, 0.9759, 0.9759, 0.9759,\n",
      "           0.9759, 0.9759, 0.9759, 0.9759],\n",
      "          [0.9759, 0.9759, 0.9759, 0.9759, 0.9759, 0.9759, 0.9759, 0.9759,\n",
      "           0.9759, 0.9759, 0.9759, 0.9759, 0.9759, 0.9759, 1.2941, 2.2233,\n",
      "           2.3251, 1.7905, 0.9759, 0.9759, 0.9759, 0.9759, 0.9759, 0.9759,\n",
      "           0.9759, 0.9759, 0.9759, 0.9759],\n",
      "          [0.9759, 0.9759, 0.9759, 0.9759, 0.9759, 0.9759, 0.9759, 0.9759,\n",
      "           0.9759, 0.9759, 0.9759, 0.9759, 0.9759, 0.9759, 1.8796, 2.3505,\n",
      "           2.2614, 1.1795, 0.9759, 0.9759, 0.9759, 0.9759, 0.9759, 0.9759,\n",
      "           0.9759, 0.9759, 0.9759, 0.9759],\n",
      "          [0.9759, 0.9759, 0.9759, 0.9759, 0.9759, 0.9759, 0.9759, 0.9759,\n",
      "           0.9759, 0.9759, 0.9759, 0.9759, 0.9759, 1.2814, 2.1851, 2.3505,\n",
      "           1.7778, 1.0523, 0.9759, 0.9759, 0.9759, 0.9759, 0.9759, 0.9759,\n",
      "           0.9759, 0.9759, 0.9759, 0.9759],\n",
      "          [0.9759, 0.9759, 0.9759, 0.9759, 0.9759, 0.9759, 0.9759, 0.9759,\n",
      "           0.9759, 0.9759, 0.9759, 0.9759, 1.0013, 1.5614, 2.3505, 2.2869,\n",
      "           1.4341, 0.9759, 0.9759, 0.9759, 0.9759, 0.9759, 0.9759, 0.9759,\n",
      "           0.9759, 0.9759, 0.9759, 0.9759],\n",
      "          [0.9759, 0.9759, 0.9759, 0.9759, 0.9759, 0.9759, 0.9759, 0.9759,\n",
      "           0.9759, 0.9759, 0.9759, 0.9759, 1.1414, 2.2233, 2.3505, 1.9432,\n",
      "           0.9759, 0.9759, 0.9759, 0.9759, 0.9759, 0.9759, 0.9759, 0.9759,\n",
      "           0.9759, 0.9759, 0.9759, 0.9759],\n",
      "          [0.9759, 0.9759, 0.9759, 0.9759, 0.9759, 0.9759, 0.9759, 0.9759,\n",
      "           0.9759, 0.9759, 0.9759, 0.9759, 1.1414, 2.2233, 2.3505, 1.9432,\n",
      "           0.9759, 0.9759, 0.9759, 0.9759, 0.9759, 0.9759, 0.9759, 0.9759,\n",
      "           0.9759, 0.9759, 0.9759, 0.9759],\n",
      "          [0.9759, 0.9759, 0.9759, 0.9759, 0.9759, 0.9759, 0.9759, 0.9759,\n",
      "           0.9759, 0.9759, 0.9759, 0.9759, 1.1286, 2.1214, 2.1469, 1.3323,\n",
      "           0.9759, 0.9759, 0.9759, 0.9759, 0.9759, 0.9759, 0.9759, 0.9759,\n",
      "           0.9759, 0.9759, 0.9759, 0.9759],\n",
      "          [0.9759, 0.9759, 0.9759, 0.9759, 0.9759, 0.9759, 0.9759, 0.9759,\n",
      "           0.9759, 0.9759, 0.9759, 0.9759, 0.9886, 1.0777, 1.0777, 0.9886,\n",
      "           0.9759, 0.9759, 0.9759, 0.9759, 0.9759, 0.9759, 0.9759, 0.9759,\n",
      "           0.9759, 0.9759, 0.9759, 0.9759],\n",
      "          [0.9759, 0.9759, 0.9759, 0.9759, 0.9759, 0.9759, 0.9759, 0.9759,\n",
      "           0.9759, 0.9759, 0.9759, 0.9759, 0.9759, 0.9759, 0.9759, 0.9759,\n",
      "           0.9759, 0.9759, 0.9759, 0.9759, 0.9759, 0.9759, 0.9759, 0.9759,\n",
      "           0.9759, 0.9759, 0.9759, 0.9759],\n",
      "          [0.9759, 0.9759, 0.9759, 0.9759, 0.9759, 0.9759, 0.9759, 0.9759,\n",
      "           0.9759, 0.9759, 0.9759, 0.9759, 0.9759, 0.9759, 0.9759, 0.9759,\n",
      "           0.9759, 0.9759, 0.9759, 0.9759, 0.9759, 0.9759, 0.9759, 0.9759,\n",
      "           0.9759, 0.9759, 0.9759, 0.9759],\n",
      "          [0.9759, 0.9759, 0.9759, 0.9759, 0.9759, 0.9759, 0.9759, 0.9759,\n",
      "           0.9759, 0.9759, 0.9759, 0.9759, 0.9759, 0.9759, 0.9759, 0.9759,\n",
      "           0.9759, 0.9759, 0.9759, 0.9759, 0.9759, 0.9759, 0.9759, 0.9759,\n",
      "           0.9759, 0.9759, 0.9759, 0.9759],\n",
      "          [0.9759, 0.9759, 0.9759, 0.9759, 0.9759, 0.9759, 0.9759, 0.9759,\n",
      "           0.9759, 0.9759, 0.9759, 0.9759, 0.9759, 0.9759, 0.9759, 0.9759,\n",
      "           0.9759, 0.9759, 0.9759, 0.9759, 0.9759, 0.9759, 0.9759, 0.9759,\n",
      "           0.9759, 0.9759, 0.9759, 0.9759],\n",
      "          [0.9759, 0.9759, 0.9759, 0.9759, 0.9759, 0.9759, 0.9759, 0.9759,\n",
      "           0.9759, 0.9759, 0.9759, 0.9759, 0.9759, 0.9759, 0.9759, 0.9759,\n",
      "           0.9759, 0.9759, 0.9759, 0.9759, 0.9759, 0.9759, 0.9759, 0.9759,\n",
      "           0.9759, 0.9759, 0.9759, 0.9759],\n",
      "          [0.9759, 0.9759, 0.9759, 0.9759, 0.9759, 0.9759, 0.9759, 0.9759,\n",
      "           0.9759, 0.9759, 0.9759, 0.9759, 0.9759, 0.9759, 0.9759, 0.9759,\n",
      "           0.9759, 0.9759, 0.9759, 0.9759, 0.9759, 0.9759, 0.9759, 0.9759,\n",
      "           0.9759, 0.9759, 0.9759, 0.9759]]]])\n",
      "Предсказанный класс: 2\n"
     ]
    },
    {
     "data": {
      "text/plain": [
       "Text(0.5, 1.0, 'Image label: 2')"
      ]
     },
     "execution_count": 22,
     "metadata": {},
     "output_type": "execute_result"
    },
    {
     "data": {
      "image/png": "[encoded data removed]",
      "text/plain": [
       "<Figure size 640x480 with 1 Axes>"
      ]
     },
     "metadata": {},
     "output_type": "display_data"
    }
   ],
   "source": [
    "from PIL import Image, ImageOps\n",
    "import torchvision.transforms as transforms\n",
    "import torch\n",
    "\n",
    "# Открытие и инвертирование\n",
    "image = Image.open('7.png').convert('L')\n",
    "\n",
    "transform = transforms.Compose([\n",
    "    transforms.Resize((28, 28)),\n",
    "    transforms.ToTensor(),\n",
    "    transforms.Normalize((0.1307,), (0.3081,))\n",
    "])\n",
    "\n",
    "image_tensor = transform(image).unsqueeze(0).to(device)\n",
    "\n",
    "# image_tensor = random_batch[0][0]\n",
    "print(image_tensor)\n",
    "model.eval()\n",
    "with torch.no_grad():\n",
    "    output = model(image_tensor)\n",
    "    predicted_class = output.argmax(dim=1).item()\n",
    "\n",
    "# Вывод\n",
    "print(f\"Предсказанный класс: {predicted_class}\")\n",
    "\n",
    "plt.figure()\n",
    "plt.imshow(image_tensor.reshape(28, 28))\n",
    "plt.title(f'Image label: {predicted_class}')\n"
   ]
  },
  {
   "attachments": {},
   "cell_type": "markdown",
   "metadata": {},
   "source": [
    "Также помните, что вы всегда можете обратиться к отличной [документации](https://pytorch.org/docs/stable/index.html) и [учебным материалам](https://pytorch.org/tutorials/)."
   ]
  },
  {
   "attachments": {},
   "cell_type": "markdown",
   "metadata": {},
   "source": [
    "Оценим качество классификации:"
   ]
  },
  {
   "cell_type": "code",
   "execution_count": 7,
   "metadata": {},
   "outputs": [],
   "source": [
    "predicted_labels = []\n",
    "real_labels = []\n",
    "model.eval()\n",
    "with torch.no_grad():\n",
    "    for batch in train_data_loader:\n",
    "        y_predicted = model(batch[0].reshape(-1, 784))\n",
    "        predicted_labels.append(y_predicted.argmax(dim=1))\n",
    "        real_labels.append(batch[1])\n",
    "\n",
    "predicted_labels = torch.cat(predicted_labels)\n",
    "real_labels = torch.cat(real_labels)\n",
    "train_acc = (predicted_labels == real_labels).type(torch.FloatTensor).mean()"
   ]
  },
  {
   "cell_type": "code",
   "execution_count": 8,
   "metadata": {},
   "outputs": [
    {
     "name": "stdout",
     "output_type": "stream",
     "text": [
      "Neural network accuracy on train set: 0.9855\n"
     ]
    }
   ],
   "source": [
    "print(f'Neural network accuracy on train set: {train_acc:3.5}')"
   ]
  },
  {
   "cell_type": "code",
   "execution_count": 9,
   "metadata": {},
   "outputs": [],
   "source": [
    "predicted_labels = []\n",
    "real_labels = []\n",
    "model.eval()\n",
    "with torch.no_grad():\n",
    "    for batch in test_data_loader:\n",
    "        y_predicted = model(batch[0].reshape(-1, 784))\n",
    "     \n",
    "        predicted_labels.append(y_predicted.argmax(dim=1))\n",
    "        real_labels.append(batch[1])\n",
    "\n",
    "predicted_labels = torch.cat(predicted_labels)\n",
    "real_labels = torch.cat(real_labels)\n",
    "test_acc = (predicted_labels == real_labels).type(torch.FloatTensor).mean()"
   ]
  },
  {
   "cell_type": "code",
   "execution_count": 10,
   "metadata": {},
   "outputs": [
    {
     "name": "stdout",
     "output_type": "stream",
     "text": [
      "Neural network accuracy on test set: 0.9763\n"
     ]
    }
   ],
   "source": [
    "print(f'Neural network accuracy on test set: {test_acc:3.5}')"
   ]
  },
  {
   "attachments": {},
   "cell_type": "markdown",
   "metadata": {},
   "source": [
    "Проверка, что пороги пройдены:"
   ]
  },
  {
   "cell_type": "code",
   "execution_count": 11,
   "metadata": {},
   "outputs": [],
   "source": [
    "assert test_acc >= 0.92, 'Test accuracy is below 0.92 threshold'\n",
    "assert train_acc >= 0.91, 'Train accuracy is below 0.91 while test accuracy is fine. We recommend to check your model and data flow'"
   ]
  },
  {
   "attachments": {},
   "cell_type": "markdown",
   "metadata": {},
   "source": [
    "Обращаем внимане, код ниже предполагает, что ваша модель имеет содержится в переменной `model`, а файл `hw_mnist_data_dict.npy` находится в той же директории, что и ноутбук (он доступен в репозитории)."
   ]
  },
  {
   "cell_type": "code",
   "execution_count": null,
   "metadata": {},
   "outputs": [],
   "source": []
  },
  {
   "cell_type": "code",
   "execution_count": 12,
   "metadata": {},
   "outputs": [
    {
     "name": "stdout",
     "output_type": "stream",
     "text": [
      "File saved to `submission_dict_mnist_task_1.json`\n"
     ]
    }
   ],
   "source": [
    "# do not change the code in the block below\n",
    "# __________start of block__________\n",
    "import os\n",
    "import json\n",
    "assert os.path.exists('hw_mnist_data_dict.npy'), 'Please, download `hw_mnist_data_dict.npy` and place it in the working directory'\n",
    "\n",
    "def get_predictions(model, eval_data, step=10):\n",
    "    \n",
    "    predicted_labels = []\n",
    "    model.eval()\n",
    "    with torch.no_grad():\n",
    "        for idx in range(0, len(eval_data), step):\n",
    "            y_predicted = model(eval_data[idx:idx+step].reshape(-1, 784))\n",
    "            predicted_labels.append(y_predicted.argmax(dim=1))\n",
    "    \n",
    "    predicted_labels = torch.cat(predicted_labels).numpy()\n",
    "    predicted_labels = ','.join([str(x) for x in list(predicted_labels)])\n",
    "    return predicted_labels\n",
    "\n",
    "loaded_data_dict = np.load('hw_mnist_data_dict.npy', allow_pickle=True)\n",
    "\n",
    "submission_dict = {\n",
    "    'train': get_predictions(model, torch.FloatTensor(loaded_data_dict.item()['train'])),\n",
    "    'test': get_predictions(model, torch.FloatTensor(loaded_data_dict.item()['test']))\n",
    "}\n",
    "\n",
    "with open('submission_dict_mnist_task_1.json', 'w') as iofile:\n",
    "    json.dump(submission_dict, iofile)\n",
    "print('File saved to `submission_dict_mnist_task_1.json`')\n",
    "# __________end of block__________"
   ]
  },
  {
   "cell_type": "markdown",
   "metadata": {},
   "source": [
    "### Сдача задания\n",
    "Сдайте сгенерированный файл в соответствующую задачу в соревновании, а именно:\n",
    "    \n",
    "* `submission_dict_mnist_task_1.json` в задачу Warmup (hw_mnist)"
   ]
  },
  {
   "attachments": {},
   "cell_type": "markdown",
   "metadata": {},
   "source": [
    "На этом задание завершено. Поздравляем!"
   ]
  }
 ],
 "metadata": {
  "kernelspec": {
   "display_name": "venv",
   "language": "python",
   "name": "python3"
  },
  "language_info": {
   "codemirror_mode": {
    "name": "ipython",
    "version": 3
   },
   "file_extension": ".py",
   "mimetype": "text/x-python",
   "name": "python",
   "nbconvert_exporter": "python",
   "pygments_lexer": "ipython3",
   "version": "3.10.7"
  }
 },
 "nbformat": 4,
 "nbformat_minor": 4
}
